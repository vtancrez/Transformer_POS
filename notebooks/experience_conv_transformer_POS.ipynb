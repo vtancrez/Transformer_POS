{
 "cells": [
  {
   "cell_type": "code",
   "execution_count": 1,
   "metadata": {},
   "outputs": [],
   "source": [
    "import os,sys\n",
    "src = os.path.abspath(os.path.join(os.getcwd(), os.pardir))\n",
    "sys.path.append(src)\n",
    "\n",
    "from src.conv_transformer_POS import *\n",
    "import copy"
   ]
  },
  {
   "cell_type": "code",
   "execution_count": 2,
   "metadata": {},
   "outputs": [
    {
     "name": "stdout",
     "output_type": "stream",
     "text": [
      "True\n"
     ]
    }
   ],
   "source": [
    "device = torch.device(\"cuda\" if torch.cuda.is_available() else \"cpu\")\n",
    "print(torch.cuda.is_available())  # Renvoie True si un GPU est disponible\n",
    "\n",
    "batch_size=16\n",
    "epochs=300"
   ]
  },
  {
   "cell_type": "code",
   "execution_count": 3,
   "metadata": {},
   "outputs": [
    {
     "name": "stdout",
     "output_type": "stream",
     "text": [
      "{'g': 2, 'u': 3, 't': 4, 'e': 5, 'n': 6, 'b': 7, 'r': 8, 'c': 9, 'x': 10, 'p': 11, 'o': 12, 's': 13, 'i': 14, 'a': 15, 'd': 16, 'q': 17, 'è': 18, 'l': 19, ',': 20, 'à': 21, 'm': 22, '-': 23, 'é': 24, '.': 25, 'f': 26, 'v': 27, \"'\": 28, 'j': 29, 'h': 30, '1': 31, '9': 32, '5': 33, '3': 34, 'z': 35, '2': 36, '?': 37, '\"': 38, 'ê': 39, 'y': 40, 'ù': 41, 'â': 42, '7': 43, '6': 44, 'û': 45, '0': 46, '4': 47, '%': 48, ';': 49, '8': 50, 'ô': 51, ':': 52, 'k': 53, 'î': 54, 'ç': 55, '!': 56, '(': 57, ')': 58, '/': 59, '°': 60, 'ë': 61, 'w': 62, '=': 63, ' ': 64, '©': 65, '+': 66, '<': 67, '½': 68, 'ä': 69, 'ß': 70, 'ï': 71, '[': 72, ']': 73, '±': 74, 'ö': 75, 'ó': 76, 'á': 77, '&': 78, '^': 79, '$': 80, '<PAD>': 0, '<UNK>': 1}\n",
      "26\n"
     ]
    }
   ],
   "source": [
    "# Load data using the load_data_1 function\n",
    "sentences, pos_tags = load_data_1(\"../UD_French-Sequoia/fr_sequoia-ud-train.conllu\")\n",
    "\n",
    "# Create character and tag mappings\n",
    "char_counts = Counter(char for sentence in sentences for word in sentence for char in word)\n",
    "char_to_ix = {char: i for i, char in enumerate(char_counts, start=2)}\n",
    "char_to_ix['<PAD>'], char_to_ix['<UNK>'] = 0, 1  # Padding and unknown character\n",
    "\n",
    "print(char_to_ix)\n",
    "tag_counts = Counter(tag for tags in pos_tags for tag in tags)\n",
    "tag_to_ix = {tag: i for i, tag in enumerate(tag_counts)}\n",
    "max_word_len = max(len(word) for sentence in sentences for word in sentence)\n",
    "print(max_word_len)\n",
    "# Now load the data in the desired format using the load_data function\n",
    "train_sentences, train_pos_tags = load_data(\"../UD_French-Sequoia/fr_sequoia-ud-train.conllu\", char_to_ix, max_word_len)\n",
    "validation_sentences, validation_pos_tags = load_data(\"../UD_French-Sequoia/fr_sequoia-ud-dev.conllu\", char_to_ix, max_word_len)\n",
    "\n",
    "# Rest of your code for Dataset, DataLoader, Model initialization, etc.\n",
    "\n",
    "# Dataset and DataLoader\n",
    "dataset = POSDataset(train_sentences, train_pos_tags, tag_to_ix, max_word_len,char_to_ix)\n",
    "data_loader = DataLoader(dataset, batch_size=batch_size, shuffle=True, collate_fn=collate_fn)\n",
    "\n",
    "validation_dataset = POSDataset(validation_sentences, validation_pos_tags, tag_to_ix, max_word_len,char_to_ix)\n",
    "validation_data_loader = DataLoader(validation_dataset, batch_size=batch_size, shuffle=False, collate_fn=collate_fn)\n"
   ]
  },
  {
   "cell_type": "code",
   "execution_count": 4,
   "metadata": {},
   "outputs": [
    {
     "name": "stderr",
     "output_type": "stream",
     "text": [
      "C:\\Users\\victo\\AppData\\Local\\Packages\\PythonSoftwareFoundation.Python.3.11_qbz5n2kfra8p0\\LocalCache\\local-packages\\Python311\\site-packages\\torch\\nn\\modules\\transformer.py:282: UserWarning: enable_nested_tensor is True, but self.use_nested_tensor is False because encoder_layer.self_attn.batch_first was not True(use batch_first for better inference performance)\n",
      "  warnings.warn(f\"enable_nested_tensor is True, but self.use_nested_tensor is False because {why_not_sparsity_fast_path}\")\n",
      "C:\\Users\\victo\\AppData\\Local\\Packages\\PythonSoftwareFoundation.Python.3.11_qbz5n2kfra8p0\\LocalCache\\local-packages\\Python311\\site-packages\\tqdm\\auto.py:21: TqdmWarning: IProgress not found. Please update jupyter and ipywidgets. See https://ipywidgets.readthedocs.io/en/stable/user_install.html\n",
      "  from .autonotebook import tqdm as notebook_tqdm\n"
     ]
    }
   ],
   "source": [
    "\n",
    "# Model initialization\n",
    "num_chars = len(char_to_ix)\n",
    "char_embedding_dim = 512\n",
    "num_filters = 1024\n",
    "kernel_size = 6\n",
    "nhead = 2\n",
    "nhid = 512\n",
    "nlayers = 1\n",
    "tagset_size = len(tag_to_ix)\n",
    "\n",
    "model = POSTransformerModel(num_chars, char_embedding_dim, num_filters, kernel_size, nhead, nhid, nlayers, tagset_size)\n",
    "\n",
    "# Loss and Optimizer\n",
    "loss_function = nn.CrossEntropyLoss(ignore_index=-1)\n",
    "optimizer = optim.SGD(model.parameters(), lr=0.001)\n",
    "\n",
    "\n",
    "loss_function = nn.CrossEntropyLoss(ignore_index=-1)\n",
    "optimizer = optim.Adam(model.parameters(), lr=0.0001)\n",
    "\n",
    "\n"
   ]
  },
  {
   "cell_type": "code",
   "execution_count": 5,
   "metadata": {},
   "outputs": [
    {
     "name": "stdout",
     "output_type": "stream",
     "text": [
      "Epoch 1, Validation Loss: 0.4117, Validation Accuracy: 0.8749, f1_score : 0.7112\n",
      "best model accuracy: 0.8749\n",
      "Epoch 1, Loss: 0.7711387779031481\n",
      "Epoch 2, Validation Loss: 0.2889, Validation Accuracy: 0.9093, f1_score : 0.7368\n",
      "best model accuracy: 0.9093\n",
      "Epoch 2, Loss: 0.37087972004498754\n",
      "Epoch 3, Validation Loss: 0.2655, Validation Accuracy: 0.9202, f1_score : 0.7699\n",
      "best model accuracy: 0.9202\n",
      "Epoch 3, Loss: 0.289718873160226\n",
      "Epoch 4, Validation Loss: 0.2402, Validation Accuracy: 0.9304, f1_score : 0.7698\n",
      "best model accuracy: 0.9304\n",
      "Epoch 4, Loss: 0.24794223148907935\n",
      "Epoch 5, Validation Loss: 0.2291, Validation Accuracy: 0.9361, f1_score : 0.7741\n",
      "best model accuracy: 0.9361\n",
      "Epoch 5, Loss: 0.2189216018787452\n",
      "Epoch 6, Validation Loss: 0.2278, Validation Accuracy: 0.9355, f1_score : 0.7934\n",
      "Epoch 6, Loss: 0.20259134136140347\n",
      "Epoch 7, Validation Loss: 0.2083, Validation Accuracy: 0.9396, f1_score : 0.8441\n",
      "best model accuracy: 0.9396\n",
      "Epoch 7, Loss: 0.18542937966329712\n",
      "Epoch 8, Validation Loss: 0.2117, Validation Accuracy: 0.9389, f1_score : 0.8205\n",
      "Epoch 8, Loss: 0.17482014048312391\n",
      "Epoch 9, Validation Loss: 0.2311, Validation Accuracy: 0.9353, f1_score : 0.8359\n",
      "Epoch 9, Loss: 0.1668679844055857\n",
      "Epoch 10, Validation Loss: 0.2034, Validation Accuracy: 0.9406, f1_score : 0.8472\n",
      "best model accuracy: 0.9406\n",
      "Epoch 10, Loss: 0.15893055754048482\n",
      "Epoch 11, Validation Loss: 0.2150, Validation Accuracy: 0.9420, f1_score : 0.8534\n",
      "best model accuracy: 0.9420\n",
      "Epoch 11, Loss: 0.14834714812625732\n",
      "Epoch 12, Validation Loss: 0.2111, Validation Accuracy: 0.9429, f1_score : 0.8577\n",
      "best model accuracy: 0.9429\n",
      "Epoch 12, Loss: 0.14666899655546461\n",
      "Epoch 13, Validation Loss: 0.2059, Validation Accuracy: 0.9404, f1_score : 0.8561\n",
      "Epoch 13, Loss: 0.1396113013316478\n",
      "Epoch 14, Validation Loss: 0.2109, Validation Accuracy: 0.9407, f1_score : 0.8636\n",
      "Epoch 14, Loss: 0.13671098263668163\n",
      "Epoch 15, Validation Loss: 0.2102, Validation Accuracy: 0.9426, f1_score : 0.8568\n",
      "Epoch 15, Loss: 0.13407746431018625\n",
      "Epoch 16, Validation Loss: 0.2148, Validation Accuracy: 0.9425, f1_score : 0.8462\n",
      "Epoch 16, Loss: 0.13422064882303988\n",
      "Epoch 17, Validation Loss: 0.2110, Validation Accuracy: 0.9449, f1_score : 0.8571\n",
      "best model accuracy: 0.9449\n",
      "Epoch 17, Loss: 0.1308987805885928\n",
      "Epoch 18, Validation Loss: 0.1998, Validation Accuracy: 0.9461, f1_score : 0.8582\n",
      "best model accuracy: 0.9461\n",
      "Epoch 18, Loss: 0.12694112184856618\n",
      "Epoch 19, Validation Loss: 0.2036, Validation Accuracy: 0.9444, f1_score : 0.8674\n",
      "Epoch 19, Loss: 0.12360711717712028\n",
      "Epoch 20, Validation Loss: 0.2036, Validation Accuracy: 0.9449, f1_score : 0.8590\n",
      "Epoch 20, Loss: 0.12355676266763892\n",
      "Epoch 21, Validation Loss: 0.2039, Validation Accuracy: 0.9435, f1_score : 0.8501\n",
      "Epoch 21, Loss: 0.12228831970798118\n",
      "Epoch 22, Validation Loss: 0.2058, Validation Accuracy: 0.9455, f1_score : 0.8570\n",
      "Epoch 22, Loss: 0.11838688286287444\n",
      "Epoch 23, Validation Loss: 0.2071, Validation Accuracy: 0.9460, f1_score : 0.8594\n",
      "Epoch 23, Loss: 0.11715182813682727\n",
      "Epoch 24, Validation Loss: 0.2059, Validation Accuracy: 0.9448, f1_score : 0.8562\n",
      "Epoch 24, Loss: 0.11680109237453767\n",
      "Epoch 25, Validation Loss: 0.2089, Validation Accuracy: 0.9441, f1_score : 0.8574\n",
      "Epoch 25, Loss: 0.1145429875701666\n",
      "Epoch 26, Validation Loss: 0.2110, Validation Accuracy: 0.9422, f1_score : 0.8591\n",
      "Epoch 26, Loss: 0.11385695971548557\n",
      "Epoch 27, Validation Loss: 0.2069, Validation Accuracy: 0.9454, f1_score : 0.8598\n",
      "Epoch 27, Loss: 0.11375192858810936\n",
      "Epoch 28, Validation Loss: 0.2099, Validation Accuracy: 0.9451, f1_score : 0.8552\n",
      "Epoch 28, Loss: 0.11133906189352274\n",
      "Epoch 29, Validation Loss: 0.2116, Validation Accuracy: 0.9441, f1_score : 0.8572\n",
      "Epoch 29, Loss: 0.11127259656786918\n",
      "Epoch 30, Validation Loss: 0.2063, Validation Accuracy: 0.9437, f1_score : 0.8547\n",
      "Epoch 30, Loss: 0.11104811845081193\n",
      "Epoch 31, Validation Loss: 0.2073, Validation Accuracy: 0.9443, f1_score : 0.8578\n",
      "Epoch 31, Loss: 0.1098032895475626\n",
      "Epoch 32, Validation Loss: 0.2105, Validation Accuracy: 0.9454, f1_score : 0.8560\n",
      "Epoch 32, Loss: 0.10878053874309573\n",
      "Epoch 33, Validation Loss: 0.2048, Validation Accuracy: 0.9443, f1_score : 0.8572\n",
      "Epoch 33, Loss: 0.10817861419969371\n",
      "Epoch 34, Validation Loss: 0.2116, Validation Accuracy: 0.9450, f1_score : 0.8561\n",
      "Epoch 34, Loss: 0.10796657385570663\n",
      "Epoch 35, Validation Loss: 0.2161, Validation Accuracy: 0.9456, f1_score : 0.8572\n",
      "Epoch 35, Loss: 0.108724920318595\n",
      "Epoch 36, Validation Loss: 0.2123, Validation Accuracy: 0.9435, f1_score : 0.8553\n",
      "Epoch 36, Loss: 0.10546719801745244\n",
      "Epoch 37, Validation Loss: 0.2009, Validation Accuracy: 0.9460, f1_score : 0.8570\n",
      "Epoch 37, Loss: 0.10662707883332456\n",
      "Epoch 38, Validation Loss: 0.2048, Validation Accuracy: 0.9445, f1_score : 0.8544\n",
      "Arrêt précoce : La loss de validation ne s'améliore plus\n"
     ]
    }
   ],
   "source": [
    "\n",
    "patience = 20  # Nombre d'époques à attendre après la dernière amélioration de la loss de validation\n",
    "best_val_accuracy = 0\n",
    "epochs_no_improve = 0\n",
    "\n",
    "#Training\n",
    "for epoch in range(epochs): \n",
    "    model.train()\n",
    "    model.to(device)  # Déplacer le modèle sur le GPU si disponible\n",
    "    total_loss = 0\n",
    "    for sentence_in, targets in data_loader:\n",
    "        sentence_in, targets = sentence_in.to(device), targets.to(device)  # Déplacer les données sur le périphérique\n",
    "        optimizer.zero_grad()\n",
    "        tag_scores = model(sentence_in)\n",
    "        loss = loss_function(tag_scores.view(-1, len(tag_to_ix)), targets.view(-1))\n",
    "        loss.backward()\n",
    "        optimizer.step()\n",
    "        total_loss += loss.item()\n",
    "\n",
    "    # Utiliser la fonction modifiée pour évaluer la validation loss et l'accuracy\n",
    "    val_loss, val_accuracy,f1 = evaluate_model(model, validation_data_loader, loss_function,device, tag_to_ix)\n",
    "    print(f\"Epoch {epoch+1}, Validation Loss: {val_loss:.4f}, Validation Accuracy: {val_accuracy:.4f}, f1_score : {f1:.4f}\")\n",
    "    if val_accuracy > best_val_accuracy:\n",
    "        best_val_accuracy = val_accuracy\n",
    "        best_model = copy.deepcopy(model)\n",
    "        print(f\"best model accuracy: {best_val_accuracy:.4f}\")\n",
    "        epochs_no_improve = 0\n",
    "    else:\n",
    "        epochs_no_improve += 1\n",
    "\n",
    "    # Arrêt précoce si aucune amélioration\n",
    "    if epochs_no_improve == patience:\n",
    "        print(\"Arrêt précoce : La loss de validation ne s'améliore plus\")\n",
    "        break\n",
    "    print(f\"Epoch {epoch+1}, Loss: {total_loss / len(data_loader)}\")\n"
   ]
  },
  {
   "cell_type": "code",
   "execution_count": 6,
   "metadata": {},
   "outputs": [
    {
     "name": "stdout",
     "output_type": "stream",
     "text": [
      "Sentence: gutenberg\n",
      "Predicted POS Tags: ['PROPN']\n",
      "Vraies étiquettes POS: ['PROPN']\n",
      "Test Accuracy : 0.9402\n",
      "Test loss : 0.2419\n",
      "Test F1 score : 0.8433\n"
     ]
    }
   ],
   "source": [
    "model.eval()\n",
    "with torch.no_grad():\n",
    "    # Convert the first sentence in the dataset to character indices\n",
    "    char_indices = [[char_to_ix.get(char, char_to_ix['<UNK>']) for char in word] for word in sentences[0]]\n",
    "    char_indices = [word[:max_word_len] + [char_to_ix['<PAD>']] * (max_word_len - len(word)) for word in char_indices]\n",
    "\n",
    "    # Convert to tensor and add batch dimension\n",
    "    inputs = torch.tensor(char_indices, dtype=torch.long).unsqueeze(0).to(device)\n",
    "\n",
    "    # Get tag scores from the model\n",
    "    tag_scores = model(inputs)\n",
    "    predicted_tags = [list(tag_to_ix.keys())[tag] for tag in tag_scores[0].argmax(dim=1).cpu()]\n",
    "    \n",
    "    print(f\"Sentence: {' '.join(sentences[0])}\")\n",
    "    print(f\"Predicted POS Tags: {predicted_tags}\")\n",
    "    true_tags = [tag for tag in pos_tags[0]]\n",
    "    print(f\"Vraies étiquettes POS: {true_tags}\")\n",
    "\n",
    "\n",
    "\n",
    "test_sentences, test_pos_tags = load_data(\"../UD_French-Sequoia/fr_sequoia-ud-test.conllu\", char_to_ix, max_word_len)\n",
    "\n",
    "\n",
    "test_dataset = POSDataset(test_sentences, test_pos_tags, tag_to_ix, max_word_len,char_to_ix)\n",
    "test_data_loader = DataLoader(test_dataset, batch_size=batch_size, shuffle=False, collate_fn=collate_fn)\n",
    "\n",
    "\n",
    "# Calculer l'accuracy\n",
    "loss, accuracy, f1 = evaluate_model(model,test_data_loader,loss_function,device,tag_to_ix)\n",
    "print(f\"Test Accuracy : {accuracy:.4f}\")\n",
    "print(f\"Test loss : {loss:.4f}\")\n",
    "print(f\"Test F1 score : {f1:.4f}\")"
   ]
  },
  {
   "cell_type": "code",
   "execution_count": 7,
   "metadata": {},
   "outputs": [
    {
     "name": "stdout",
     "output_type": "stream",
     "text": [
      "Sentence: gutenberg\n",
      "Predicted POS Tags: ['PROPN']\n",
      "Vraies étiquettes POS: ['PROPN']\n",
      "Test Accuracy : 0.9421\n",
      "Test loss : 0.2313\n",
      "Test F1 score : 0.8501\n"
     ]
    }
   ],
   "source": [
    "best_model.eval()\n",
    "with torch.no_grad():\n",
    "    # Convert the first sentence in the dataset to character indices\n",
    "    char_indices = [[char_to_ix.get(char, char_to_ix['<UNK>']) for char in word] for word in sentences[0]]\n",
    "    char_indices = [word[:max_word_len] + [char_to_ix['<PAD>']] * (max_word_len - len(word)) for word in char_indices]\n",
    "\n",
    "    # Convert to tensor and add batch dimension\n",
    "    inputs = torch.tensor(char_indices, dtype=torch.long).unsqueeze(0).to(device)\n",
    "\n",
    "    # Get tag scores from the model\n",
    "    tag_scores = best_model(inputs)\n",
    "    predicted_tags = [list(tag_to_ix.keys())[tag] for tag in tag_scores[0].argmax(dim=1).cpu()]\n",
    "    \n",
    "    print(f\"Sentence: {' '.join(sentences[0])}\")\n",
    "    print(f\"Predicted POS Tags: {predicted_tags}\")\n",
    "    true_tags = [tag for tag in pos_tags[0]]\n",
    "    print(f\"Vraies étiquettes POS: {true_tags}\")\n",
    "\n",
    "\n",
    "\n",
    "test_sentences, test_pos_tags = load_data(\"../UD_French-Sequoia/fr_sequoia-ud-test.conllu\", char_to_ix, max_word_len)\n",
    "\n",
    "\n",
    "test_dataset = POSDataset(test_sentences, test_pos_tags, tag_to_ix, max_word_len,char_to_ix)\n",
    "test_data_loader = DataLoader(test_dataset, batch_size=batch_size, shuffle=False, collate_fn=collate_fn)\n",
    "\n",
    "\n",
    "# Calculer l'accuracy\n",
    "loss, accuracy, f1 = evaluate_model(best_model,test_data_loader,loss_function,device,tag_to_ix)\n",
    "print(f\"Test Accuracy : {accuracy:.4f}\")\n",
    "print(f\"Test loss : {loss:.4f}\")\n",
    "print(f\"Test F1 score : {f1:.4f}\")"
   ]
  },
  {
   "cell_type": "code",
   "execution_count": 8,
   "metadata": {},
   "outputs": [
    {
     "name": "stdout",
     "output_type": "stream",
     "text": [
      "Sentence: gutenberg\n",
      "Predicted POS Tags: ['PROPN']\n",
      "Vraies étiquettes POS: ['PROPN']\n"
     ]
    },
    {
     "ename": "FileNotFoundError",
     "evalue": "[Errno 2] No such file or directory: 'UD_French-Sequoia/fr_sequoia-ud-test.conllu'",
     "output_type": "error",
     "traceback": [
      "\u001b[1;31m---------------------------------------------------------------------------\u001b[0m",
      "\u001b[1;31mFileNotFoundError\u001b[0m                         Traceback (most recent call last)",
      "Cell \u001b[1;32mIn[8], line 14\u001b[0m\n\u001b[0;32m     11\u001b[0m     \u001b[38;5;28mprint\u001b[39m(\u001b[38;5;124mf\u001b[39m\u001b[38;5;124m\"\u001b[39m\u001b[38;5;124mVraies étiquettes POS: \u001b[39m\u001b[38;5;132;01m{\u001b[39;00mtrue_tags\u001b[38;5;132;01m}\u001b[39;00m\u001b[38;5;124m\"\u001b[39m)\n\u001b[0;32m     13\u001b[0m \u001b[38;5;66;03m# Évaluation sur l'ensemble de test\u001b[39;00m\n\u001b[1;32m---> 14\u001b[0m test_sentences, test_pos_tags \u001b[38;5;241m=\u001b[39m \u001b[43mload_data\u001b[49m\u001b[43m(\u001b[49m\u001b[38;5;124;43m\"\u001b[39;49m\u001b[38;5;124;43mUD_French-Sequoia/fr_sequoia-ud-test.conllu\u001b[39;49m\u001b[38;5;124;43m\"\u001b[39;49m\u001b[43m,\u001b[49m\u001b[43m \u001b[49m\u001b[43mchar_to_ix\u001b[49m\u001b[43m,\u001b[49m\u001b[43m \u001b[49m\u001b[43mmax_word_len\u001b[49m\u001b[43m)\u001b[49m\n\u001b[0;32m     15\u001b[0m test_dataset \u001b[38;5;241m=\u001b[39m POSDataset(test_sentences, test_pos_tags, tag_to_ix, max_word_len, char_to_ix)\n\u001b[0;32m     16\u001b[0m test_data_loader \u001b[38;5;241m=\u001b[39m DataLoader(test_dataset, batch_size\u001b[38;5;241m=\u001b[39mbatch_size, shuffle\u001b[38;5;241m=\u001b[39m\u001b[38;5;28;01mFalse\u001b[39;00m, collate_fn\u001b[38;5;241m=\u001b[39mcollate_fn)\n",
      "File \u001b[1;32mc:\\Users\\victo\\Documents\\GitHub\\Transformer_POS\\src\\conv_transformer_POS.py:162\u001b[0m, in \u001b[0;36mload_data\u001b[1;34m(conllu_file, char_to_ix, max_word_len)\u001b[0m\n\u001b[0;32m    160\u001b[0m \u001b[38;5;28;01mdef\u001b[39;00m \u001b[38;5;21mload_data\u001b[39m(conllu_file, char_to_ix, max_word_len):\n\u001b[0;32m    161\u001b[0m     sentences, pos_tags \u001b[38;5;241m=\u001b[39m [], []\n\u001b[1;32m--> 162\u001b[0m     \u001b[38;5;28;01mwith\u001b[39;00m \u001b[38;5;28mopen\u001b[39m(conllu_file, \u001b[38;5;124m'\u001b[39m\u001b[38;5;124mr\u001b[39m\u001b[38;5;124m'\u001b[39m, encoding\u001b[38;5;241m=\u001b[39m\u001b[38;5;124m'\u001b[39m\u001b[38;5;124mutf-8\u001b[39m\u001b[38;5;124m'\u001b[39m) \u001b[38;5;28;01mas\u001b[39;00m file:\n\u001b[0;32m    163\u001b[0m         \u001b[38;5;28;01mfor\u001b[39;00m sentence \u001b[38;5;129;01min\u001b[39;00m parse_incr(file):\n\u001b[0;32m    164\u001b[0m             char_sentences \u001b[38;5;241m=\u001b[39m []\n",
      "\u001b[1;31mFileNotFoundError\u001b[0m: [Errno 2] No such file or directory: 'UD_French-Sequoia/fr_sequoia-ud-test.conllu'"
     ]
    }
   ],
   "source": [
    "\n",
    "best_model.eval()\n",
    "with torch.no_grad():\n",
    "    char_indices = [[char_to_ix.get(char, char_to_ix['<UNK>']) for char in word] for word in sentences[0]]\n",
    "    char_indices = [word[:max_word_len] + [char_to_ix['<PAD>']] * (max_word_len - len(word)) for word in char_indices]\n",
    "    inputs = torch.tensor(char_indices, dtype=torch.long).unsqueeze(0).to(device)\n",
    "    tag_scores = best_model(inputs)\n",
    "    predicted_tags = [list(tag_to_ix.keys())[tag] for tag in tag_scores[0].argmax(dim=1).cpu()]\n",
    "    print(f\"Sentence: {' '.join(sentences[0])}\")\n",
    "    print(f\"Predicted POS Tags: {predicted_tags}\")\n",
    "    true_tags = [tag for tag in pos_tags[0]]\n",
    "    print(f\"Vraies étiquettes POS: {true_tags}\")\n",
    "\n",
    "# Évaluation sur l'ensemble de test\n",
    "test_sentences, test_pos_tags = load_data(\"../UD_French-Sequoia/fr_sequoia-ud-test.conllu\", char_to_ix, max_word_len)\n",
    "test_dataset = POSDataset(test_sentences, test_pos_tags, tag_to_ix, max_word_len, char_to_ix)\n",
    "test_data_loader = DataLoader(test_dataset, batch_size=batch_size, shuffle=False, collate_fn=collate_fn)\n",
    "\n",
    "# Calculer l'accuracy sur l'ensemble de test\n",
    "loss, accuracy, f1 = evaluate_model(best_model, data_loader, loss_function, device, tag_to_ix)\n",
    "print(f\"Train Accuracy : {accuracy:.4f}\")\n",
    "print(f\"Train loss : {loss:.4f}\")\n",
    "print(f\"Train F1 score : {f1:.4f}\")\n"
   ]
  }
 ],
 "metadata": {
  "kernelspec": {
   "display_name": "Python 3",
   "language": "python",
   "name": "python3"
  },
  "language_info": {
   "codemirror_mode": {
    "name": "ipython",
    "version": 3
   },
   "file_extension": ".py",
   "mimetype": "text/x-python",
   "name": "python",
   "nbconvert_exporter": "python",
   "pygments_lexer": "ipython3",
   "version": "3.11.8"
  }
 },
 "nbformat": 4,
 "nbformat_minor": 2
}
